{
 "cells": [
  {
   "cell_type": "code",
   "execution_count": 1,
   "id": "2e1fda04",
   "metadata": {},
   "outputs": [],
   "source": [
    "import pandas as pd\n",
    "import plotly.graph_objects as go\n",
    "import plotly.io as pio\n",
    "\n",
    "# Use browser as rendering backend\n",
    "pio.renderers.default = 'browser'\n",
    "\n",
    "# Load dataset safely\n",
    "df = pd.read_csv('Online_Retail.csv', dtype={'InvoiceNo': str}, low_memory=False)\n",
    "\n",
    "# Parse and clean dates\n",
    "df['Date'] = pd.to_datetime(df['Date'], errors='coerce')\n",
    "df = df.dropna(subset=['Date'])\n",
    "df.set_index('Date', inplace=True)\n",
    "\n",
    "# Resample monthly (month-end)\n",
    "monthly_sum = df['Quantity'].resample('ME').sum()\n",
    "monthly_max = df['Quantity'].resample('ME').max()\n",
    "\n",
    "# Create figure\n",
    "fig = go.Figure()\n",
    "\n",
    "# Total monthly sales (bar)\n",
    "fig.add_trace(go.Bar(\n",
    "    x=monthly_sum.index,\n",
    "    y=monthly_sum.values,\n",
    "    name='Total Quantity (Sum)',\n",
    "    marker_color='rgba(0,123,255,0.6)'\n",
    "))\n",
    "\n",
    "# Max single transaction (line)\n",
    "fig.add_trace(go.Scatter(\n",
    "    x=monthly_max.index,\n",
    "    y=monthly_max.values,\n",
    "    mode='lines+markers',\n",
    "    name='Max Single Order Quantity',\n",
    "    line=dict(color='crimson', width=2)\n",
    "))\n",
    "\n",
    "# Update layout: remove month titles\n",
    "fig.update_layout(\n",
    "    title='Monthly Sales: Total vs. Max Single Order Quantity',\n",
    "    xaxis_title='Month',\n",
    "    yaxis_title='Quantity',\n",
    "    template='plotly_white',\n",
    "    height=500,\n",
    "    legend=dict(x=0.01, y=0.99),\n",
    "    xaxis=dict(\n",
    "        showticklabels=False \n",
    "    )\n",
    ")\n",
    "\n",
    "fig.show()"
   ]
  }
 ],
 "metadata": {
  "kernelspec": {
   "display_name": "Python 3",
   "language": "python",
   "name": "python3"
  },
  "language_info": {
   "codemirror_mode": {
    "name": "ipython",
    "version": 3
   },
   "file_extension": ".py",
   "mimetype": "text/x-python",
   "name": "python",
   "nbconvert_exporter": "python",
   "pygments_lexer": "ipython3",
   "version": "3.12.10"
  }
 },
 "nbformat": 4,
 "nbformat_minor": 5
}
